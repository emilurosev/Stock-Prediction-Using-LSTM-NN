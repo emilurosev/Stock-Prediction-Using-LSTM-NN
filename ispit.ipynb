{
 "cells": [
  {
   "cell_type": "code",
   "execution_count": 194,
   "metadata": {},
   "outputs": [],
   "source": [
    "# Kratak uvod: Ovaj program koristi vestacku neuronsku mrezu zvanu Long Short Term Memory (LSTM) da bi predvideo krajnju\n",
    "# dnevnu cenu Apple kompanije koristeci close cene 60 prethodnih dana"
   ]
  },
  {
   "cell_type": "code",
   "execution_count": 195,
   "metadata": {},
   "outputs": [],
   "source": [
    "import math\n",
    "import pandas_datareader as web\n",
    "import numpy as np\n",
    "import pandas as pd\n",
    "from sklearn.preprocessing import MinMaxScaler\n",
    "from keras.models import Sequential\n",
    "from keras.layers import Dense, LSTM\n",
    "import matplotlib.pyplot as plt\n",
    "plt.style.use('fivethirtyeight')"
   ]
  },
  {
   "cell_type": "code",
   "execution_count": 196,
   "metadata": {},
   "outputs": [],
   "source": [
    "# Dobavljanje podataka\n",
    "df = web.DataReader('AAPL', data_source='yahoo', start='2010-01-01', end='2020-07-06')"
   ]
  },
  {
   "cell_type": "code",
   "execution_count": 197,
   "metadata": {
    "scrolled": true
   },
   "outputs": [
    {
     "data": {
      "text/html": [
       "<div>\n",
       "<style scoped>\n",
       "    .dataframe tbody tr th:only-of-type {\n",
       "        vertical-align: middle;\n",
       "    }\n",
       "\n",
       "    .dataframe tbody tr th {\n",
       "        vertical-align: top;\n",
       "    }\n",
       "\n",
       "    .dataframe thead th {\n",
       "        text-align: right;\n",
       "    }\n",
       "</style>\n",
       "<table border=\"1\" class=\"dataframe\">\n",
       "  <thead>\n",
       "    <tr style=\"text-align: right;\">\n",
       "      <th></th>\n",
       "      <th>High</th>\n",
       "      <th>Low</th>\n",
       "      <th>Open</th>\n",
       "      <th>Close</th>\n",
       "      <th>Volume</th>\n",
       "      <th>Adj Close</th>\n",
       "    </tr>\n",
       "    <tr>\n",
       "      <th>Date</th>\n",
       "      <th></th>\n",
       "      <th></th>\n",
       "      <th></th>\n",
       "      <th></th>\n",
       "      <th></th>\n",
       "      <th></th>\n",
       "    </tr>\n",
       "  </thead>\n",
       "  <tbody>\n",
       "    <tr>\n",
       "      <th>2010-01-04</th>\n",
       "      <td>30.642857</td>\n",
       "      <td>30.340000</td>\n",
       "      <td>30.490000</td>\n",
       "      <td>30.572857</td>\n",
       "      <td>123432400.0</td>\n",
       "      <td>26.466835</td>\n",
       "    </tr>\n",
       "    <tr>\n",
       "      <th>2010-01-05</th>\n",
       "      <td>30.798571</td>\n",
       "      <td>30.464285</td>\n",
       "      <td>30.657143</td>\n",
       "      <td>30.625713</td>\n",
       "      <td>150476200.0</td>\n",
       "      <td>26.512596</td>\n",
       "    </tr>\n",
       "    <tr>\n",
       "      <th>2010-01-06</th>\n",
       "      <td>30.747143</td>\n",
       "      <td>30.107143</td>\n",
       "      <td>30.625713</td>\n",
       "      <td>30.138571</td>\n",
       "      <td>138040000.0</td>\n",
       "      <td>26.090879</td>\n",
       "    </tr>\n",
       "    <tr>\n",
       "      <th>2010-01-07</th>\n",
       "      <td>30.285715</td>\n",
       "      <td>29.864286</td>\n",
       "      <td>30.250000</td>\n",
       "      <td>30.082857</td>\n",
       "      <td>119282800.0</td>\n",
       "      <td>26.042646</td>\n",
       "    </tr>\n",
       "    <tr>\n",
       "      <th>2010-01-08</th>\n",
       "      <td>30.285715</td>\n",
       "      <td>29.865715</td>\n",
       "      <td>30.042856</td>\n",
       "      <td>30.282858</td>\n",
       "      <td>111902700.0</td>\n",
       "      <td>26.215786</td>\n",
       "    </tr>\n",
       "    <tr>\n",
       "      <th>...</th>\n",
       "      <td>...</td>\n",
       "      <td>...</td>\n",
       "      <td>...</td>\n",
       "      <td>...</td>\n",
       "      <td>...</td>\n",
       "      <td>...</td>\n",
       "    </tr>\n",
       "    <tr>\n",
       "      <th>2020-06-29</th>\n",
       "      <td>362.170013</td>\n",
       "      <td>351.279999</td>\n",
       "      <td>353.250000</td>\n",
       "      <td>361.779999</td>\n",
       "      <td>32661500.0</td>\n",
       "      <td>361.779999</td>\n",
       "    </tr>\n",
       "    <tr>\n",
       "      <th>2020-06-30</th>\n",
       "      <td>365.980011</td>\n",
       "      <td>360.000000</td>\n",
       "      <td>360.079987</td>\n",
       "      <td>364.799988</td>\n",
       "      <td>35055800.0</td>\n",
       "      <td>364.799988</td>\n",
       "    </tr>\n",
       "    <tr>\n",
       "      <th>2020-07-01</th>\n",
       "      <td>367.359985</td>\n",
       "      <td>363.910004</td>\n",
       "      <td>365.119995</td>\n",
       "      <td>364.109985</td>\n",
       "      <td>27684300.0</td>\n",
       "      <td>364.109985</td>\n",
       "    </tr>\n",
       "    <tr>\n",
       "      <th>2020-07-02</th>\n",
       "      <td>370.470001</td>\n",
       "      <td>363.640015</td>\n",
       "      <td>367.850006</td>\n",
       "      <td>364.109985</td>\n",
       "      <td>28510400.0</td>\n",
       "      <td>364.109985</td>\n",
       "    </tr>\n",
       "    <tr>\n",
       "      <th>2020-07-06</th>\n",
       "      <td>375.769989</td>\n",
       "      <td>369.869995</td>\n",
       "      <td>370.000000</td>\n",
       "      <td>373.850006</td>\n",
       "      <td>28157503.0</td>\n",
       "      <td>373.850006</td>\n",
       "    </tr>\n",
       "  </tbody>\n",
       "</table>\n",
       "<p>2644 rows × 6 columns</p>\n",
       "</div>"
      ],
      "text/plain": [
       "                  High         Low        Open       Close       Volume  \\\n",
       "Date                                                                      \n",
       "2010-01-04   30.642857   30.340000   30.490000   30.572857  123432400.0   \n",
       "2010-01-05   30.798571   30.464285   30.657143   30.625713  150476200.0   \n",
       "2010-01-06   30.747143   30.107143   30.625713   30.138571  138040000.0   \n",
       "2010-01-07   30.285715   29.864286   30.250000   30.082857  119282800.0   \n",
       "2010-01-08   30.285715   29.865715   30.042856   30.282858  111902700.0   \n",
       "...                ...         ...         ...         ...          ...   \n",
       "2020-06-29  362.170013  351.279999  353.250000  361.779999   32661500.0   \n",
       "2020-06-30  365.980011  360.000000  360.079987  364.799988   35055800.0   \n",
       "2020-07-01  367.359985  363.910004  365.119995  364.109985   27684300.0   \n",
       "2020-07-02  370.470001  363.640015  367.850006  364.109985   28510400.0   \n",
       "2020-07-06  375.769989  369.869995  370.000000  373.850006   28157503.0   \n",
       "\n",
       "             Adj Close  \n",
       "Date                    \n",
       "2010-01-04   26.466835  \n",
       "2010-01-05   26.512596  \n",
       "2010-01-06   26.090879  \n",
       "2010-01-07   26.042646  \n",
       "2010-01-08   26.215786  \n",
       "...                ...  \n",
       "2020-06-29  361.779999  \n",
       "2020-06-30  364.799988  \n",
       "2020-07-01  364.109985  \n",
       "2020-07-02  364.109985  \n",
       "2020-07-06  373.850006  \n",
       "\n",
       "[2644 rows x 6 columns]"
      ]
     },
     "execution_count": 197,
     "metadata": {},
     "output_type": "execute_result"
    }
   ],
   "source": [
    "# Prikazivanje podataka\n",
    "df"
   ]
  },
  {
   "cell_type": "code",
   "execution_count": 198,
   "metadata": {},
   "outputs": [
    {
     "data": {
      "text/plain": [
       "(2644, 6)"
      ]
     },
     "execution_count": 198,
     "metadata": {},
     "output_type": "execute_result"
    }
   ],
   "source": [
    "df.shape"
   ]
  },
  {
   "cell_type": "code",
   "execution_count": 199,
   "metadata": {},
   "outputs": [
    {
     "data": {
      "image/png": "[encoded data removed]",
      "text/plain": [
       "<Figure size 1152x576 with 1 Axes>"
      ]
     },
     "metadata": {},
     "output_type": "display_data"
    }
   ],
   "source": [
    "# Vizualizacija\n",
    "plt.figure(figsize=(16,8))\n",
    "plt.title('Close price history')\n",
    "plt.plot(df['Close'])\n",
    "plt.xlabel('Date', fontsize=18)\n",
    "plt.ylabel('Close price USD', fontsize=18)\n",
    "plt.show()"
   ]
  },
  {
   "cell_type": "code",
   "execution_count": 200,
   "metadata": {},
   "outputs": [],
   "source": [
    "data = df.filter(['Close'])\n",
    "\n",
    "dataset = data.values"
   ]
  },
  {
   "cell_type": "code",
   "execution_count": 201,
   "metadata": {},
   "outputs": [
    {
     "data": {
      "text/plain": [
       "2116"
      ]
     },
     "execution_count": 201,
     "metadata": {},
     "output_type": "execute_result"
    }
   ],
   "source": [
    "# duzina trening skupa je 80% celoukupne duzine\n",
    "\n",
    "training_data_len = math.ceil(len(dataset) * 0.8)\n",
    "\n",
    "training_data_len"
   ]
  },
  {
   "cell_type": "code",
   "execution_count": 202,
   "metadata": {},
   "outputs": [],
   "source": [
    "# skaliranje podataka na interval [0,1], bolji rezultat u ovom slucaju u odnosu na neskalirane podatke\n",
    "\n",
    "scaler = MinMaxScaler(feature_range=(0, 1))\n",
    "\n",
    "scaled_data = scaler.fit_transform(dataset)"
   ]
  },
  {
   "cell_type": "code",
   "execution_count": 203,
   "metadata": {},
   "outputs": [
    {
     "data": {
      "text/plain": [
       "array([[0.00905604],\n",
       "       [0.00920862],\n",
       "       [0.00780238],\n",
       "       ...,\n",
       "       [0.97188332],\n",
       "       [0.97188332],\n",
       "       [1.        ]])"
      ]
     },
     "execution_count": 203,
     "metadata": {},
     "output_type": "execute_result"
    }
   ],
   "source": [
    "scaled_data"
   ]
  },
  {
   "cell_type": "code",
   "execution_count": 204,
   "metadata": {},
   "outputs": [
    {
     "name": "stdout",
     "output_type": "stream",
     "text": [
      "[array([9.05604145e-03, 9.20862304e-03, 7.80238036e-03, 7.64155081e-03,\n",
      "       8.21889640e-03, 7.44772946e-03, 6.46212129e-03, 7.67041864e-03,\n",
      "       7.16730462e-03, 5.72394615e-03, 9.48079994e-03, 8.11579701e-03,\n",
      "       6.60645493e-03, 2.35061110e-03, 4.54451663e-03, 5.72807013e-03,\n",
      "       6.52810490e-03, 2.98568684e-03, 4.12397572e-06, 1.10519796e-03,\n",
      "       1.57119621e-03, 2.96094299e-03, 0.00000000e+00, 1.40624268e-03,\n",
      "       8.53640950e-04, 1.70728741e-03, 1.26603302e-03, 2.73000585e-03,\n",
      "       3.43518918e-03, 4.68060232e-03, 4.33007540e-03, 4.48678097e-03,\n",
      "       3.96717104e-03, 3.45168509e-03, 2.06606228e-03, 3.55066050e-03,\n",
      "       4.10326224e-03, 5.18371635e-03, 6.98585519e-03, 6.92811953e-03,\n",
      "       7.12606486e-03, 7.69516250e-03, 1.10932414e-02, 1.11468476e-02,\n",
      "       1.27716610e-02, 1.35222025e-02, 1.37943849e-02, 1.42480113e-02,\n",
      "       1.31098160e-02, 1.33613730e-02, 1.32252873e-02, 1.34438525e-02,\n",
      "       1.24541204e-02, 1.34850923e-02, 1.49738090e-02, 1.53903250e-02,\n",
      "       1.42686256e-02, 1.60212768e-02, 1.66357326e-02, 1.80625952e-02])]\n",
      "[0.017712073771968137]\n",
      "\n"
     ]
    }
   ],
   "source": [
    "# Definisanje trening skupa\n",
    "\n",
    "train_data = scaled_data[0: training_data_len, :]\n",
    "\n",
    "x_train = []\n",
    "y_train = []\n",
    "\n",
    "for i in range(60, len(train_data)):\n",
    "    x_train.append(train_data[i-60: i, 0])\n",
    "    y_train.append(train_data[i, 0])\n",
    "    if i <= 60:\n",
    "        print(x_train)\n",
    "        print(y_train)\n",
    "        print()"
   ]
  },
  {
   "cell_type": "code",
   "execution_count": 205,
   "metadata": {},
   "outputs": [],
   "source": [
    "x_train, y_train = np.array(x_train), np.array(y_train)"
   ]
  },
  {
   "cell_type": "code",
   "execution_count": 206,
   "metadata": {},
   "outputs": [
    {
     "data": {
      "text/plain": [
       "(2056, 60, 1)"
      ]
     },
     "execution_count": 206,
     "metadata": {},
     "output_type": "execute_result"
    }
   ],
   "source": [
    "x_train = np.reshape(x_train, (x_train.shape[0], x_train.shape[1], 1))\n",
    "x_train.shape"
   ]
  },
  {
   "cell_type": "code",
   "execution_count": 207,
   "metadata": {},
   "outputs": [],
   "source": [
    "# LSTM model, neuronska mreza sacinjena od 4 sloja\n",
    "\n",
    "model = Sequential()\n",
    "\n",
    "# prvi(ulazni) LSTM sloj sacinjen od 50 neurona, ulaz dimenzija 60x1\n",
    "model.add(LSTM(50, return_sequences=True, input_shape=(x_train.shape[1], 1)))\n",
    "\n",
    "# drugi LSTM sloj sacinjen od takodje 50 neurona\n",
    "model.add(LSTM(50, return_sequences=False))\n",
    "\n",
    "# dense sloj sacinjen od 25 neurona\n",
    "model.add(Dense(25))\n",
    "\n",
    "# izlazni dense sloj\n",
    "model.add(Dense(1))"
   ]
  },
  {
   "cell_type": "code",
   "execution_count": 208,
   "metadata": {},
   "outputs": [],
   "source": [
    "model.compile(optimizer='adam', loss='mean_squared_error')"
   ]
  },
  {
   "cell_type": "code",
   "execution_count": null,
   "metadata": {},
   "outputs": [
    {
     "name": "stdout",
     "output_type": "stream",
     "text": [
      "Epoch 1/1\n",
      "   7/2056 [..............................] - ETA: 4:07 - loss: 0.0167"
     ]
    }
   ],
   "source": [
    "# Treniranje modela, u ovom slucaju veoma dobre rezultate daje samo 1 epoha tj. dovoljno je da se samo jednom svi podaci\n",
    "# provuku kroz gore definisani model\n",
    "# Koriscenjem vise epoha rezultati u slucaju Apple kompanije budu znatno losiji\n",
    "\n",
    "model.fit(x_train, y_train, batch_size=1, epochs=1)"
   ]
  },
  {
   "cell_type": "code",
   "execution_count": null,
   "metadata": {},
   "outputs": [],
   "source": [
    "# Definisanje test skupa\n",
    "\n",
    "test_data = scaled_data[training_data_len-60: , :]\n",
    "x_test = []\n",
    "y_test = dataset[training_data_len:, :]\n",
    "\n",
    "for i in range(60, len(test_data)):\n",
    "    x_test.append(test_data[i-60:i, 0])"
   ]
  },
  {
   "cell_type": "code",
   "execution_count": null,
   "metadata": {},
   "outputs": [],
   "source": [
    "x_test = np.array(x_test)"
   ]
  },
  {
   "cell_type": "code",
   "execution_count": null,
   "metadata": {},
   "outputs": [],
   "source": [
    "x_test = np.reshape(x_test, (x_test.shape[0], x_test.shape[1], 1))"
   ]
  },
  {
   "cell_type": "code",
   "execution_count": null,
   "metadata": {},
   "outputs": [],
   "source": [
    "predictions = model.predict(x_test)\n",
    "predictions = scaler.inverse_transform(predictions)"
   ]
  },
  {
   "cell_type": "code",
   "execution_count": 187,
   "metadata": {},
   "outputs": [
    {
     "data": {
      "text/plain": [
       "13.237463575420957"
      ]
     },
     "execution_count": 187,
     "metadata": {},
     "output_type": "execute_result"
    }
   ],
   "source": [
    "# Racunanje greske - Root mean squared error\n",
    "\n",
    "rmse = np.sqrt(np.mean(predictions - y_test)**2)\n",
    "rmse"
   ]
  },
  {
   "cell_type": "code",
   "execution_count": 188,
   "metadata": {},
   "outputs": [
    {
     "name": "stderr",
     "output_type": "stream",
     "text": [
      "/usr/local/lib/python3.7/dist-packages/ipykernel_launcher.py:5: SettingWithCopyWarning: \n",
      "A value is trying to be set on a copy of a slice from a DataFrame.\n",
      "Try using .loc[row_indexer,col_indexer] = value instead\n",
      "\n",
      "See the caveats in the documentation: https://pandas.pydata.org/pandas-docs/stable/user_guide/indexing.html#returning-a-view-versus-a-copy\n",
      "  \"\"\"\n"
     ]
    }
   ],
   "source": [
    "# Plot\n",
    "\n",
    "train = data[:training_data_len]\n",
    "valid = data[training_data_len:]\n",
    "valid['Predictions'] = predictions"
   ]
  },
  {
   "cell_type": "code",
   "execution_count": 189,
   "metadata": {},
   "outputs": [
    {
     "data": {
      "image/png": "[encoded data removed]",
      "text/plain": [
       "<Figure size 1152x576 with 1 Axes>"
      ]
     },
     "metadata": {},
     "output_type": "display_data"
    }
   ],
   "source": [
    "# Vizualizacija\n",
    "\n",
    "plt.figure(figsize=(16,8))\n",
    "plt.title('Model')\n",
    "plt.xlabel('Date', fontsize=18)\n",
    "plt.ylabel('Close Price USD', fontsize=18)\n",
    "plt.plot(train['Close'])\n",
    "plt.plot(valid[['Close', 'Predictions']])\n",
    "plt.legend(['Train', 'Test', 'Predictions'], loc='lower right')\n",
    "plt.show()"
   ]
  },
  {
   "cell_type": "code",
   "execution_count": 190,
   "metadata": {},
   "outputs": [
    {
     "data": {
      "text/html": [
       "<div>\n",
       "<style scoped>\n",
       "    .dataframe tbody tr th:only-of-type {\n",
       "        vertical-align: middle;\n",
       "    }\n",
       "\n",
       "    .dataframe tbody tr th {\n",
       "        vertical-align: top;\n",
       "    }\n",
       "\n",
       "    .dataframe thead th {\n",
       "        text-align: right;\n",
       "    }\n",
       "</style>\n",
       "<table border=\"1\" class=\"dataframe\">\n",
       "  <thead>\n",
       "    <tr style=\"text-align: right;\">\n",
       "      <th></th>\n",
       "      <th>Close</th>\n",
       "      <th>Predictions</th>\n",
       "    </tr>\n",
       "    <tr>\n",
       "      <th>Date</th>\n",
       "      <th></th>\n",
       "      <th></th>\n",
       "    </tr>\n",
       "  </thead>\n",
       "  <tbody>\n",
       "    <tr>\n",
       "      <th>2018-05-31</th>\n",
       "      <td>186.869995</td>\n",
       "      <td>179.539398</td>\n",
       "    </tr>\n",
       "    <tr>\n",
       "      <th>2018-06-01</th>\n",
       "      <td>190.240005</td>\n",
       "      <td>179.414154</td>\n",
       "    </tr>\n",
       "    <tr>\n",
       "      <th>2018-06-04</th>\n",
       "      <td>191.830002</td>\n",
       "      <td>179.686417</td>\n",
       "    </tr>\n",
       "    <tr>\n",
       "      <th>2018-06-05</th>\n",
       "      <td>193.309998</td>\n",
       "      <td>180.300873</td>\n",
       "    </tr>\n",
       "    <tr>\n",
       "      <th>2018-06-06</th>\n",
       "      <td>193.979996</td>\n",
       "      <td>181.177963</td>\n",
       "    </tr>\n",
       "    <tr>\n",
       "      <th>...</th>\n",
       "      <td>...</td>\n",
       "      <td>...</td>\n",
       "    </tr>\n",
       "    <tr>\n",
       "      <th>2020-06-29</th>\n",
       "      <td>361.779999</td>\n",
       "      <td>333.202057</td>\n",
       "    </tr>\n",
       "    <tr>\n",
       "      <th>2020-06-30</th>\n",
       "      <td>364.799988</td>\n",
       "      <td>333.735168</td>\n",
       "    </tr>\n",
       "    <tr>\n",
       "      <th>2020-07-01</th>\n",
       "      <td>364.109985</td>\n",
       "      <td>334.676605</td>\n",
       "    </tr>\n",
       "    <tr>\n",
       "      <th>2020-07-02</th>\n",
       "      <td>364.109985</td>\n",
       "      <td>335.547852</td>\n",
       "    </tr>\n",
       "    <tr>\n",
       "      <th>2020-07-06</th>\n",
       "      <td>373.850006</td>\n",
       "      <td>336.270599</td>\n",
       "    </tr>\n",
       "  </tbody>\n",
       "</table>\n",
       "<p>528 rows × 2 columns</p>\n",
       "</div>"
      ],
      "text/plain": [
       "                 Close  Predictions\n",
       "Date                               \n",
       "2018-05-31  186.869995   179.539398\n",
       "2018-06-01  190.240005   179.414154\n",
       "2018-06-04  191.830002   179.686417\n",
       "2018-06-05  193.309998   180.300873\n",
       "2018-06-06  193.979996   181.177963\n",
       "...                ...          ...\n",
       "2020-06-29  361.779999   333.202057\n",
       "2020-06-30  364.799988   333.735168\n",
       "2020-07-01  364.109985   334.676605\n",
       "2020-07-02  364.109985   335.547852\n",
       "2020-07-06  373.850006   336.270599\n",
       "\n",
       "[528 rows x 2 columns]"
      ]
     },
     "execution_count": 190,
     "metadata": {},
     "output_type": "execute_result"
    }
   ],
   "source": [
    "valid"
   ]
  },
  {
   "cell_type": "code",
   "execution_count": 191,
   "metadata": {},
   "outputs": [],
   "source": [
    "# Predikcija za 7.7.2020., close cena ce biti dostupna oko 16:00h \n",
    "\n",
    "apple_quote = web.DataReader('AAPL', data_source='yahoo', start='2012-01-01', end='2020-07-06')\n",
    "new_df = apple_quote.filter(['Close'])\n",
    "last_60_days = new_df[-60:].values\n",
    "last_60_days_scaled = scaler.transform(last_60_days)\n",
    "\n",
    "X_test = []\n",
    "X_test.append(last_60_days_scaled)\n",
    "X_test = np.array(X_test)\n",
    "x_test = np.reshape(X_test, (X_test.shape[0], X_test.shape[1], 1))\n",
    "\n",
    "pred_price = model.predict(X_test)\n",
    "\n",
    "pred_price = scaler.inverse_transform(pred_price)"
   ]
  },
  {
   "cell_type": "code",
   "execution_count": 192,
   "metadata": {},
   "outputs": [
    {
     "name": "stdout",
     "output_type": "stream",
     "text": [
      "Predvidjena close cena za 7.7.2020. je 338.1521301269531 $\n"
     ]
    }
   ],
   "source": [
    "print(f'Predvidjena close cena za 7.7.2020. je {pred_price[0][0]} $')"
   ]
  },
  {
   "cell_type": "code",
   "execution_count": 193,
   "metadata": {},
   "outputs": [
    {
     "name": "stdout",
     "output_type": "stream",
     "text": [
      "Date\n",
      "2012-01-03     58.747143\n",
      "2012-01-04     59.062859\n",
      "2012-01-05     59.718571\n",
      "2012-01-06     60.342857\n",
      "2012-01-09     60.247143\n",
      "                 ...    \n",
      "2020-06-29    361.779999\n",
      "2020-06-30    364.799988\n",
      "2020-07-01    364.109985\n",
      "2020-07-02    364.109985\n",
      "2020-07-06    373.850006\n",
      "Name: Close, Length: 2140, dtype: float64\n"
     ]
    }
   ],
   "source": [
    "# Pokrenuti 7.7.2020 posle 16:00h i uporediti\n",
    "apple_quote2 = web.DataReader('AAPL', data_source='yahoo', start='2012-01-01', end='2020-07-07')\n",
    "print(apple_quote2['Close'])"
   ]
  }
 ],
 "metadata": {
  "kernelspec": {
   "display_name": "Python 3",
   "language": "python",
   "name": "python3"
  },
  "language_info": {
   "codemirror_mode": {
    "name": "ipython",
    "version": 3
   },
   "file_extension": ".py",
   "mimetype": "text/x-python",
   "name": "python",
   "nbconvert_exporter": "python",
   "pygments_lexer": "ipython3",
   "version": "3.7.3"
  }
 },
 "nbformat": 4,
 "nbformat_minor": 4
}
